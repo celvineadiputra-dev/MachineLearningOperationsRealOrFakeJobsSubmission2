{
 "cells": [
  {
   "cell_type": "code",
   "execution_count": 1,
   "id": "265af887-d355-40d4-a8b9-3e79a3ebb316",
   "metadata": {},
   "outputs": [],
   "source": [
    "import requests"
   ]
  },
  {
   "cell_type": "code",
   "execution_count": 2,
   "id": "62667d32-1838-44b5-97a9-891c32cae39c",
   "metadata": {},
   "outputs": [
    {
     "data": {
      "text/plain": [
       "{'model_version_status': [{'version': '1711446791',\n",
       "   'state': 'AVAILABLE',\n",
       "   'status': {'error_code': 'OK', 'error_message': ''}}]}"
      ]
     },
     "execution_count": 2,
     "metadata": {},
     "output_type": "execute_result"
    }
   ],
   "source": [
    "requests.get(\"http://103.190.215.94:8501/v1/models/real-or-fake-jobs-detection-model\").json()"
   ]
  }
 ],
 "metadata": {
  "kernelspec": {
   "display_name": "Python 3 (ipykernel)",
   "language": "python",
   "name": "python3"
  },
  "language_info": {
   "codemirror_mode": {
    "name": "ipython",
    "version": 3
   },
   "file_extension": ".py",
   "mimetype": "text/x-python",
   "name": "python",
   "nbconvert_exporter": "python",
   "pygments_lexer": "ipython3",
   "version": "3.8.18"
  }
 },
 "nbformat": 4,
 "nbformat_minor": 5
}
