{
 "cells": [
  {
   "cell_type": "code",
   "execution_count": 1,
   "id": "277e2976-c02c-48e1-8170-c2f805ec46e9",
   "metadata": {},
   "outputs": [],
   "source": [
    "import tensorflow as tf\n",
    "import requests\n",
    "import pandas as pd\n",
    "import os\n",
    "import base64\n",
    "import json"
   ]
  },
  {
   "cell_type": "code",
   "execution_count": 4,
   "id": "7bcf2fc9-f413-41db-8d3b-e9265042b554",
   "metadata": {},
   "outputs": [],
   "source": [
    "DATA_ROOT = \"dataset\""
   ]
  },
  {
   "cell_type": "code",
   "execution_count": 5,
   "id": "62537f8d-126f-4311-bf81-54d2346d607e",
   "metadata": {},
   "outputs": [],
   "source": [
    "df = pd.read_csv(DATA_ROOT + \"/fake_job_postings_clean.csv\")"
   ]
  },
  {
   "cell_type": "code",
   "execution_count": 6,
   "id": "3cf6f4f3-2931-4e0f-9f01-0ac971df698c",
   "metadata": {},
   "outputs": [],
   "source": [
    "test_input_fake = df['full_description'][0]\n",
    "test_input_real = df['full_description'][3]"
   ]
  },
  {
   "cell_type": "code",
   "execution_count": 7,
   "id": "3332e89e-bbbc-4735-aff2-50c4237a7a74",
   "metadata": {},
   "outputs": [],
   "source": [
    "def to_request(text):\n",
    "    feature_spec = {\n",
    "        \"full_description\": tf.train.Feature(bytes_list=tf.train.BytesList(value=[bytes(text, \"utf-8\")]))\n",
    "    }\n",
    "    \n",
    "    serializeToString = tf.train.Example(features=tf.train.Features(feature=feature_spec)).SerializeToString()\n",
    "    \n",
    "    result = [\n",
    "        {\n",
    "            \"examples\": {\n",
    "                \"b64\": base64.b64encode(serializeToString).decode()\n",
    "            }\n",
    "        }\n",
    "    ]\n",
    "    \n",
    "    return json.dumps({\n",
    "        \"signature_name\": \"serving_default\",\n",
    "        \"instances\": result\n",
    "    })"
   ]
  },
  {
   "cell_type": "code",
   "execution_count": 8,
   "id": "1e19f12b-7c11-48e6-84b4-97310976a711",
   "metadata": {},
   "outputs": [],
   "source": [
    "def predict(input):\n",
    "    res = requests.post(\"http://103.190.215.94:8501/v1/models/real-or-fake-jobs-detection-model:predict\", data=to_request(input)).json()\n",
    "    return \"Real Job\" if res['predictions'][0][0] > 0.7 else \"Fake Job\""
   ]
  },
  {
   "cell_type": "code",
   "execution_count": 9,
   "id": "e864e12a-d8c7-4370-80c7-415cb2fd4006",
   "metadata": {},
   "outputs": [
    {
     "data": {
      "text/plain": [
       "'Fake Job'"
      ]
     },
     "execution_count": 9,
     "metadata": {},
     "output_type": "execute_result"
    }
   ],
   "source": [
    "predict(test_input_fake)"
   ]
  },
  {
   "cell_type": "code",
   "execution_count": 10,
   "id": "e1937e86-0ec6-4ab8-ad3b-a00425a2507c",
   "metadata": {},
   "outputs": [
    {
     "data": {
      "text/plain": [
       "'Real Job'"
      ]
     },
     "execution_count": 10,
     "metadata": {},
     "output_type": "execute_result"
    }
   ],
   "source": [
    "predict(test_input_real)"
   ]
  }
 ],
 "metadata": {
  "kernelspec": {
   "display_name": "Python 3 (ipykernel)",
   "language": "python",
   "name": "python3"
  },
  "language_info": {
   "codemirror_mode": {
    "name": "ipython",
    "version": 3
   },
   "file_extension": ".py",
   "mimetype": "text/x-python",
   "name": "python",
   "nbconvert_exporter": "python",
   "pygments_lexer": "ipython3",
   "version": "3.8.18"
  }
 },
 "nbformat": 4,
 "nbformat_minor": 5
}
