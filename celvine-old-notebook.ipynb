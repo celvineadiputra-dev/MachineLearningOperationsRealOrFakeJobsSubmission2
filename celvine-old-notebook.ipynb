{
 "cells": [
  {
   "cell_type": "code",
   "execution_count": null,
   "metadata": {},
   "outputs": [],
   "source": [
    "import os\n",
    "import tensorflow as tf\n",
    "\n",
    "from tfx.components import CsvExampleGen, StatisticsGen, SchemaGen, ExampleValidator, Transform, Trainer, Tuner\n",
    "from tfx.proto import example_gen_pb2, trainer_pb2\n",
    "from tfx.orchestration.experimental.interactive.interactive_context import InteractiveContext"
   ]
  },
  {
   "cell_type": "code",
   "execution_count": null,
   "metadata": {},
   "outputs": [],
   "source": [
    "DATA_CLEAN = \"data_clean\""
   ]
  },
  {
   "cell_type": "markdown",
   "metadata": {
    "collapsed": false
   },
   "source": [
    "# Prepare pipeline"
   ]
  },
  {
   "cell_type": "code",
   "execution_count": null,
   "metadata": {},
   "outputs": [],
   "source": [
    "PIPELINE_NAME = \"sub-pipeline\"\n",
    "\n",
    "SCHEMA_PIPELINE_NAME = \"sub-tfdv-schema\"\n",
    "\n",
    "PIPELINE_ROOT = os.path.join('celvine-pipelines', PIPELINE_NAME)\n",
    "\n",
    "METADATA_PATH = os.path.join('metadata', PIPELINE_NAME, 'metadata.db')\n",
    "\n",
    "SERVING_MODEL_DIR = os.path.join('serving_model', PIPELINE_NAME)"
   ]
  },
  {
   "cell_type": "code",
   "execution_count": null,
   "metadata": {},
   "outputs": [],
   "source": [
    "interactive_context = InteractiveContext(pipeline_root=PIPELINE_ROOT)"
   ]
  },
  {
   "cell_type": "markdown",
   "metadata": {
    "collapsed": false
   },
   "source": [
    "## Data Ingestion\n",
    "##### ExampleGen"
   ]
  },
  {
   "cell_type": "code",
   "execution_count": null,
   "metadata": {
    "collapsed": false
   },
   "outputs": [],
   "source": [
    "output = example_gen_pb2.Output(\n",
    "    split_config=example_gen_pb2.SplitConfig(splits=[\n",
    "        example_gen_pb2.SplitConfig.Split(name=\"train\", hash_buckets=8),\n",
    "        example_gen_pb2.SplitConfig.Split(name=\"eval\", hash_buckets=2)\n",
    "    ])\n",
    ")\n",
    "\n",
    "example_gen = CsvExampleGen(input_base=DATA_CLEAN, output_config=output)"
   ]
  },
  {
   "cell_type": "code",
   "execution_count": null,
   "metadata": {
    "collapsed": false
   },
   "outputs": [],
   "source": [
    "interactive_context.run(example_gen)"
   ]
  },
  {
   "cell_type": "markdown",
   "metadata": {
    "collapsed": false
   },
   "source": [
    "## Data Validation\n",
    "##### StatisticsGen"
   ]
  },
  {
   "cell_type": "code",
   "execution_count": null,
   "metadata": {
    "collapsed": false
   },
   "outputs": [],
   "source": [
    "statistics_gen = StatisticsGen(\n",
    "    examples=example_gen.outputs[\"examples\"]\n",
    ")\n",
    "\n",
    "interactive_context.run(statistics_gen)"
   ]
  },
  {
   "cell_type": "code",
   "execution_count": null,
   "metadata": {
    "collapsed": false,
    "scrolled": true
   },
   "outputs": [],
   "source": [
    "interactive_context.show(statistics_gen.outputs[\"statistics\"])"
   ]
  },
  {
   "cell_type": "markdown",
   "metadata": {
    "collapsed": false
   },
   "source": [
    "## Data Schema\n",
    "##### SchemaGen"
   ]
  },
  {
   "cell_type": "code",
   "execution_count": null,
   "metadata": {
    "collapsed": false
   },
   "outputs": [],
   "source": [
    "schema_gen = SchemaGen(statistics=statistics_gen.outputs[\"statistics\"])\n",
    "interactive_context.run(schema_gen)"
   ]
  },
  {
   "cell_type": "code",
   "execution_count": null,
   "metadata": {
    "collapsed": false
   },
   "outputs": [],
   "source": [
    "interactive_context.show(schema_gen.outputs[\"schema\"])"
   ]
  },
  {
   "cell_type": "markdown",
   "metadata": {
    "collapsed": false
   },
   "source": [
    "## Example Validator"
   ]
  },
  {
   "cell_type": "code",
   "execution_count": null,
   "metadata": {
    "collapsed": false
   },
   "outputs": [],
   "source": [
    "example_validator = ExampleValidator(\n",
    "    statistics=statistics_gen.outputs['statistics'],\n",
    "    schema=schema_gen.outputs['schema']\n",
    ")\n",
    "interactive_context.run(example_validator)"
   ]
  },
  {
   "cell_type": "code",
   "execution_count": null,
   "metadata": {
    "collapsed": false
   },
   "outputs": [],
   "source": [
    "interactive_context.show(example_validator.outputs['anomalies'])"
   ]
  },
  {
   "cell_type": "markdown",
   "metadata": {
    "collapsed": false
   },
   "source": [
    "# Data Preprocessing\n",
    "##### Transform"
   ]
  },
  {
   "cell_type": "code",
   "execution_count": null,
   "metadata": {
    "collapsed": false
   },
   "outputs": [],
   "source": [
    "TRANSFORM_MODULE_FILE = \"real_or_fake_job_transform.py\""
   ]
  },
  {
   "cell_type": "code",
   "execution_count": null,
   "metadata": {
    "collapsed": false
   },
   "outputs": [],
   "source": [
    "%%writefile {TRANSFORM_MODULE_FILE}\n",
    "import tensorflow as tf\n",
    "\n",
    "LABEL_KEY = \"fraudulent\"\n",
    "FEATURE_KEY = \"full_description\"\n",
    "\n",
    "\n",
    "def transformed_name(key):\n",
    "    return key + \"_xf\"\n",
    "\n",
    "\n",
    "def preprocessing_fn(inputs):\n",
    "    outputs = {}\n",
    "\n",
    "    outputs[transformed_name(FEATURE_KEY)] = tf.strings.lower(inputs[FEATURE_KEY])\n",
    "\n",
    "    outputs[transformed_name(LABEL_KEY)] = tf.cast(inputs[LABEL_KEY], tf.int64)\n",
    "\n",
    "    return outputs"
   ]
  },
  {
   "cell_type": "code",
   "execution_count": null,
   "metadata": {
    "collapsed": false
   },
   "outputs": [],
   "source": [
    "transform = Transform(\n",
    "    examples=example_gen.outputs[\"examples\"],\n",
    "    schema=schema_gen.outputs['schema'],\n",
    "    module_file=os.path.abspath(TRANSFORM_MODULE_FILE)\n",
    ")"
   ]
  },
  {
   "cell_type": "code",
   "execution_count": null,
   "metadata": {},
   "outputs": [],
   "source": [
    "interactive_context.run(transform)"
   ]
  },
  {
   "cell_type": "markdown",
   "metadata": {},
   "source": [
    "# Hyperparameter"
   ]
  },
  {
   "cell_type": "code",
   "execution_count": null,
   "metadata": {},
   "outputs": [],
   "source": [
    "TUNER_MODULE_FILE = \"real_or_fake_job_tuner.py\""
   ]
  },
  {
   "cell_type": "code",
   "execution_count": null,
   "metadata": {},
   "outputs": [],
   "source": [
    "%%writefile {TUNER_MODULE_FILE}\n",
    "\n",
    "import keras_tuner as kt\n",
    "import tensorflow as tf\n",
    "import tensorflow_transform as tft\n",
    "from typing import NamedTuple, Dict, Text, Any\n",
    "from keras_tuner.engine import base_tuner\n",
    "from tensorflow.keras import layers\n",
    "from tfx.components.trainer.fn_args_utils import FnArgs\n",
    "\n",
    "LABEL_KEY = \"fraudulent\"\n",
    "FEATURE_KEY = \"full_description\"\n",
    "\n",
    "NUM_EPOCHS = 5\n",
    "\n",
    "TunerFnResult = NamedTuple(\"TunerFnResult\", [\n",
    "    (\"tuner\", base_tuner.BaseTuner),\n",
    "    (\"fit_kwargs\", Dict[Text, Any]),\n",
    "])\n",
    "\n",
    "early_stopping_callback = tf.keras.callbacks.EarlyStopping(\n",
    "    monitor=\"val_binary_accuracy\",\n",
    "    mode=\"max\",\n",
    "    verbose=1,\n",
    "    patience=10,\n",
    ")\n",
    "\n",
    "\n",
    "def transformed_name(key):\n",
    "    return f\"{key}_xf\"\n",
    "\n",
    "\n",
    "def gzip_reader_fn(filenames):\n",
    "    return tf.data.TFRecordDataset(filenames, compression_type=\"GZIP\")\n",
    "\n",
    "\n",
    "def input_fn(file_pattern, tf_transform_output, num_epochs, batch_size=64):\n",
    "    transform_feature_spec = (\n",
    "        tf_transform_output.transformed_feature_spec().copy()\n",
    "    )\n",
    "\n",
    "    dataset = tf.data.experimental.make_batched_features_dataset(\n",
    "        file_pattern=file_pattern,\n",
    "        batch_size=batch_size,\n",
    "        features=transform_feature_spec,\n",
    "        reader=gzip_reader_fn,\n",
    "        num_epochs=num_epochs,\n",
    "        label_key=transformed_name(LABEL_KEY),\n",
    "    )\n",
    "\n",
    "    return dataset\n",
    "\n",
    "\n",
    "def model_builder(hp, vectorizer_layer):\n",
    "    num_hidden_layers = hp.Choice(\n",
    "        \"num_hidden_layers\", values=[1, 2]\n",
    "    )\n",
    "    embed_dims = hp.Int(\n",
    "        \"embed_dims\", min_value=16, max_value=128, step=32\n",
    "    )\n",
    "    lstm_units = hp.Int(\n",
    "        \"lstm_units\", min_value=32, max_value=128, step=32\n",
    "    )\n",
    "    dense_units = hp.Int(\n",
    "        \"dense_units\", min_value=32, max_value=256, step=32\n",
    "    )\n",
    "    dropout_rate = hp.Float(\n",
    "        \"dropout_rate\", min_value=0.1, max_value=0.5, step=0.1\n",
    "    )\n",
    "    learning_rate = hp.Choice(\n",
    "        \"learning_rate\", values=[1e-2, 1e-3, 1e-4]\n",
    "    )\n",
    "\n",
    "    inputs = tf.keras.Input(\n",
    "        shape=(1,), name=transformed_name(FEATURE_KEY), dtype=tf.string\n",
    "    )\n",
    "\n",
    "    x = vectorizer_layer(inputs)\n",
    "    x = layers.Embedding(input_dim=5000, output_dim=embed_dims)(x)\n",
    "    x = layers.Bidirectional(layers.LSTM(lstm_units))(x)\n",
    "\n",
    "    for _ in range(num_hidden_layers):\n",
    "        x = layers.Dense(dense_units, activation=tf.nn.relu)(x)\n",
    "        x = layers.Dropout(dropout_rate)(x)\n",
    "\n",
    "    outputs = layers.Dense(1, activation=tf.nn.sigmoid)(x)\n",
    "\n",
    "    model = tf.keras.Model(inputs=inputs, outputs=outputs)\n",
    "\n",
    "    model.compile(\n",
    "        optimizer=tf.keras.optimizers.Adam(learning_rate=learning_rate),\n",
    "        loss=tf.keras.losses.BinaryCrossentropy(from_logits=True),\n",
    "        metrics=[\"binary_accuracy\"],\n",
    "    )\n",
    "\n",
    "    return model\n",
    "\n",
    "\n",
    "def tuner_fn(fn_args: FnArgs):\n",
    "    tf_transform_output = tft.TFTransformOutput(fn_args.transform_graph_path)\n",
    "\n",
    "    train_set = input_fn(\n",
    "        fn_args.train_files[0], tf_transform_output, NUM_EPOCHS\n",
    "    )\n",
    "    eval_set = input_fn(\n",
    "        fn_args.eval_files[0], tf_transform_output, NUM_EPOCHS\n",
    "    )\n",
    "\n",
    "    vectorizer_dataset = train_set.map(\n",
    "        lambda f, l: f[transformed_name(FEATURE_KEY)]\n",
    "    )\n",
    "\n",
    "    vectorizer_layer = layers.TextVectorization(\n",
    "        max_tokens=5000,\n",
    "        output_mode=\"int\",\n",
    "        output_sequence_length=500,\n",
    "    )\n",
    "    vectorizer_layer.adapt(vectorizer_dataset)\n",
    "\n",
    "    tuner = kt.Hyperband(\n",
    "        hypermodel=lambda hp: model_builder(hp, vectorizer_layer),\n",
    "        objective=kt.Objective('binary_accuracy', direction='max'),\n",
    "        max_epochs=NUM_EPOCHS,\n",
    "        factor=3,\n",
    "        directory=fn_args.working_dir,\n",
    "        project_name=\"kt_hyperband\",\n",
    "    )\n",
    "\n",
    "    return TunerFnResult(\n",
    "        tuner=tuner,\n",
    "        fit_kwargs={\n",
    "            \"callbacks\": [early_stopping_callback],\n",
    "            \"x\": train_set,\n",
    "            \"validation_data\": eval_set,\n",
    "            \"steps_per_epoch\": fn_args.train_steps,\n",
    "            \"validation_steps\": fn_args.eval_steps,\n",
    "        },\n",
    "    )"
   ]
  },
  {
   "cell_type": "code",
   "execution_count": null,
   "metadata": {},
   "outputs": [],
   "source": [
    "from tfx.components import Tuner\n",
    "from tfx.proto import trainer_pb2\n",
    "\n",
    "tuner = Tuner(\n",
    "    module_file=os.path.abspath(TUNER_MODULE_FILE),\n",
    "    examples=transform.outputs[\"transformed_examples\"],\n",
    "    transform_graph=transform.outputs[\"transform_graph\"],\n",
    "    schema=schema_gen.outputs[\"schema\"],\n",
    "    train_args=trainer_pb2.TrainArgs(splits=[\"train\"], num_steps=800),\n",
    "    eval_args=trainer_pb2.EvalArgs(splits=[\"eval\"], num_steps=400),\n",
    ")"
   ]
  },
  {
   "cell_type": "code",
   "execution_count": null,
   "metadata": {
    "is_executing": true,
    "scrolled": true
   },
   "outputs": [],
   "source": [
    "interactive_context.run(tuner)"
   ]
  },
  {
   "cell_type": "markdown",
   "metadata": {
    "collapsed": false
   },
   "source": [
    "# Model Development"
   ]
  },
  {
   "cell_type": "code",
   "execution_count": null,
   "metadata": {
    "collapsed": false,
    "is_executing": true
   },
   "outputs": [],
   "source": [
    "TRAINER_MODULE_FILE = \"real_or_fake_job_trainer.py\""
   ]
  },
  {
   "cell_type": "code",
   "execution_count": null,
   "metadata": {
    "collapsed": false,
    "is_executing": true
   },
   "outputs": [],
   "source": [
    "%%writefile {TRAINER_MODULE_FILE}\n",
    "import tensorflow as tf\n",
    "import tensorflow_transform as tft\n",
    "from tensorflow.keras import layers\n",
    "import os\n",
    "import tensorflow_hub as hub\n",
    "from tfx.components.trainer.fn_args_utils import FnArgs\n",
    "\n",
    "LABEL_KEY = \"fraudulent\"\n",
    "FEATURE_KEY = \"full_description\"\n",
    "\n",
    "\n",
    "def transformed_name(key):\n",
    "    return key + \"_xf\"\n",
    "\n",
    "\n",
    "def gzip_reader_fn(filenames):\n",
    "    return tf.data.TFRecordDataset(filenames, compression_type='GZIP')\n",
    "\n",
    "\n",
    "def input_fn(file_pattern,\n",
    "             tf_transform_output,\n",
    "             num_epochs,\n",
    "             batch_size=64) -> tf.data.Dataset:\n",
    "    # Get post_transform feature spec\n",
    "    transform_feature_spec = (\n",
    "        tf_transform_output.transformed_feature_spec().copy())\n",
    "\n",
    "    # create batches of data\n",
    "    dataset = tf.data.experimental.make_batched_features_dataset(\n",
    "        file_pattern=file_pattern,\n",
    "        batch_size=batch_size,\n",
    "        features=transform_feature_spec,\n",
    "        reader=gzip_reader_fn,\n",
    "        num_epochs=num_epochs,\n",
    "        label_key=transformed_name(LABEL_KEY))\n",
    "    return dataset\n",
    "\n",
    "\n",
    "# os.environ['TFHUB_CACHE_DIR'] = '/hub_chace'\n",
    "# embed = hub.KerasLayer(\"https://tfhub.dev/google/universal-sentence-encoder/4\")\n",
    "\n",
    "VOCAB_SIZE = 10000\n",
    "SEQUENCE_LENGTH = 100\n",
    "\n",
    "vectorize_layer = layers.TextVectorization(\n",
    "    standardize=\"lower_and_strip_punctuation\",\n",
    "    max_tokens=VOCAB_SIZE,\n",
    "    output_mode='int',\n",
    "    output_sequence_length=SEQUENCE_LENGTH)\n",
    "\n",
    "# import tensorflow_hub as hub\n",
    "# embedding = hub.load(\"https://www.kaggle.com/models/google/universal-sentence-encoder/frameworks/TensorFlow2/variations/universal-sentence-encoder/versions/2\")\n",
    "\n",
    "embedding_dim = 16\n",
    "\n",
    "\n",
    "def model_builder():\n",
    "    inputs = tf.keras.Input(shape=(1,), name=transformed_name(FEATURE_KEY), dtype=tf.string)\n",
    "    reshaped_narrative = tf.reshape(inputs, [-1])\n",
    "    x = vectorize_layer(reshaped_narrative)\n",
    "    x = layers.Embedding(VOCAB_SIZE, embedding_dim, name=\"embedding\")(x)\n",
    "    x = layers.GlobalAveragePooling1D()(x)\n",
    "    x = layers.Dense(64, activation='relu')(x)\n",
    "    x = layers.Dense(32, activation=\"relu\")(x)\n",
    "    outputs = layers.Dense(1, activation='sigmoid')(x)\n",
    "\n",
    "    model = tf.keras.Model(inputs=inputs, outputs=outputs)\n",
    "\n",
    "    model.compile(\n",
    "        loss='binary_crossentropy',\n",
    "        optimizer=tf.keras.optimizers.Adam(0.01),\n",
    "        metrics=[tf.keras.metrics.BinaryAccuracy()]\n",
    "\n",
    "    )\n",
    "\n",
    "    model.summary()\n",
    "    return model\n",
    "\n",
    "\n",
    "def _get_serve_tf_examples_fn(model, tf_transform_output):\n",
    "    model.tft_layer = tf_transform_output.transform_features_layer()\n",
    "\n",
    "    @tf.function\n",
    "    def serve_tf_examples_fn(serialized_tf_examples):\n",
    "        feature_spec = tf_transform_output.raw_feature_spec()\n",
    "\n",
    "        feature_spec.pop(LABEL_KEY)\n",
    "\n",
    "        parsed_features = tf.io.parse_example(serialized_tf_examples, feature_spec)\n",
    "\n",
    "        transformed_features = model.tft_layer(parsed_features)\n",
    "\n",
    "        # get predictions using the transformed features\n",
    "        return model(transformed_features)\n",
    "\n",
    "    return serve_tf_examples_fn\n",
    "\n",
    "\n",
    "def run_fn(fn_args: FnArgs) -> None:\n",
    "    log_dir = os.path.join(os.path.dirname(fn_args.serving_model_dir), 'logs')\n",
    "\n",
    "    tensorboard_callback = tf.keras.callbacks.TensorBoard(\n",
    "        log_dir=log_dir, update_freq='batch'\n",
    "    )\n",
    "\n",
    "    es = tf.keras.callbacks.EarlyStopping(monitor='val_binary_accuracy', mode='max', verbose=1, patience=10)\n",
    "    mc = tf.keras.callbacks.ModelCheckpoint(fn_args.serving_model_dir, monitor='val_binary_accuracy', mode='max',\n",
    "                                            verbose=1, save_best_only=True)\n",
    "\n",
    "    # Load the transform output\n",
    "    tf_transform_output = tft.TFTransformOutput(fn_args.transform_graph_path)\n",
    "\n",
    "    # Create batches of data\n",
    "    train_set = input_fn(fn_args.train_files, tf_transform_output, 10)\n",
    "    val_set = input_fn(fn_args.eval_files, tf_transform_output, 10)\n",
    "    vectorize_layer.adapt(\n",
    "        [j[0].numpy()[0] for j in [\n",
    "            i[0][transformed_name(FEATURE_KEY)]\n",
    "            for i in list(train_set)]])\n",
    "\n",
    "    # Build the model\n",
    "    model = model_builder()\n",
    "\n",
    "    # Train the model\n",
    "    model.fit(x=train_set,\n",
    "              validation_data=val_set,\n",
    "              callbacks=[tensorboard_callback, es, mc],\n",
    "              steps_per_epoch=1000,\n",
    "              validation_steps=1000,\n",
    "              epochs=10)\n",
    "    signatures = {\n",
    "        'serving_default':\n",
    "            _get_serve_tf_examples_fn(model, tf_transform_output).get_concrete_function(\n",
    "                tf.TensorSpec(\n",
    "                    shape=[None],\n",
    "                    dtype=tf.string,\n",
    "                    name='examples'))\n",
    "    }\n",
    "    model.save(fn_args.serving_model_dir, save_format='tf', signatures=signatures)"
   ]
  },
  {
   "cell_type": "markdown",
   "metadata": {
    "collapsed": false
   },
   "source": [
    "##### Trainer"
   ]
  },
  {
   "cell_type": "code",
   "execution_count": null,
   "metadata": {
    "collapsed": false,
    "is_executing": true
   },
   "outputs": [],
   "source": [
    "from tfx.proto import trainer_pb2\n",
    "\n",
    "trainer = Trainer(\n",
    "    module_file=os.path.abspath(TRAINER_MODULE_FILE),\n",
    "    examples=transform.outputs['transformed_examples'],\n",
    "    transform_graph=transform.outputs['transform_graph'],\n",
    "    schema=schema_gen.outputs['schema'],\n",
    "    train_args=trainer_pb2.TrainArgs(splits=['train']),\n",
    "    eval_args=trainer_pb2.EvalArgs(splits=['eval'])\n",
    ")"
   ]
  },
  {
   "cell_type": "code",
   "execution_count": null,
   "metadata": {
    "is_executing": true
   },
   "outputs": [],
   "source": [
    "interactive_context.run(trainer)"
   ]
  },
  {
   "cell_type": "markdown",
   "metadata": {
    "collapsed": false
   },
   "source": [
    "##### Resolver"
   ]
  },
  {
   "cell_type": "code",
   "execution_count": null,
   "metadata": {
    "collapsed": false,
    "is_executing": true
   },
   "outputs": [],
   "source": [
    "from tfx.dsl.components.common.resolver import Resolver\n",
    "from tfx.dsl.input_resolution.strategies.latest_blessed_model_strategy import LatestBlessedModelStrategy\n",
    "from tfx.types import Channel\n",
    "from tfx.types.standard_artifacts import Model, ModelBlessing\n",
    "\n",
    "model_resolver = Resolver(\n",
    "    strategy_class=LatestBlessedModelStrategy,\n",
    "    model=Channel(type=Model),\n",
    "    model_blessing=Channel(type=ModelBlessing)\n",
    ").with_id('Latest_blessed_model_resolver')\n",
    "\n",
    "interactive_context.run(model_resolver)"
   ]
  },
  {
   "cell_type": "markdown",
   "metadata": {
    "collapsed": false
   },
   "source": [
    "##### Evaluator"
   ]
  },
  {
   "cell_type": "code",
   "execution_count": null,
   "metadata": {
    "collapsed": false,
    "is_executing": true
   },
   "outputs": [],
   "source": [
    "import tensorflow_model_analysis as tfma\n",
    "\n",
    "eval_config = tfma.EvalConfig(\n",
    "    model_specs=[tfma.ModelSpec(label_key='fraudulent')],\n",
    "    slicing_specs=[tfma.SlicingSpec()],\n",
    "    metrics_specs=[\n",
    "        tfma.MetricsSpec(metrics=[\n",
    "\n",
    "            tfma.MetricConfig(class_name='ExampleCount'),\n",
    "            tfma.MetricConfig(class_name='AUC'),\n",
    "            tfma.MetricConfig(class_name='FalsePositives'),\n",
    "            tfma.MetricConfig(class_name='TruePositives'),\n",
    "            tfma.MetricConfig(class_name='FalseNegatives'),\n",
    "            tfma.MetricConfig(class_name='TrueNegatives'),\n",
    "            tfma.MetricConfig(class_name='BinaryAccuracy',\n",
    "                              threshold=tfma.MetricThreshold(\n",
    "                                  value_threshold=tfma.GenericValueThreshold(\n",
    "                                      lower_bound={'value': 0.5}),\n",
    "                                  change_threshold=tfma.GenericChangeThreshold(\n",
    "                                      direction=tfma.MetricDirection.HIGHER_IS_BETTER,\n",
    "                                      absolute={'value': 0.0001})\n",
    "                              )\n",
    "                              )\n",
    "        ])\n",
    "    ]\n",
    ")"
   ]
  },
  {
   "cell_type": "code",
   "execution_count": null,
   "metadata": {
    "collapsed": false,
    "is_executing": true
   },
   "outputs": [],
   "source": [
    "from tfx.components import Evaluator\n",
    "\n",
    "evaluator = Evaluator(\n",
    "    examples=example_gen.outputs['examples'],\n",
    "    model=trainer.outputs['model'],\n",
    "    baseline_model=model_resolver.outputs['model'],\n",
    "    eval_config=eval_config)"
   ]
  },
  {
   "cell_type": "code",
   "execution_count": null,
   "metadata": {
    "is_executing": true
   },
   "outputs": [],
   "source": [
    "interactive_context.run(evaluator)"
   ]
  },
  {
   "cell_type": "code",
   "execution_count": null,
   "metadata": {
    "collapsed": false,
    "is_executing": true
   },
   "outputs": [],
   "source": [
    "eval_result = evaluator.outputs['evaluation'].get()[0].uri\n",
    "tfma_result = tfma.load_eval_result(eval_result)\n",
    "tfma.view.render_slicing_metrics(tfma_result)\n",
    "tfma.addons.fairness.view.widget_view.render_fairness_indicator(tfma_result)"
   ]
  },
  {
   "cell_type": "markdown",
   "metadata": {
    "collapsed": false
   },
   "source": [
    "##### Pusher"
   ]
  },
  {
   "cell_type": "code",
   "execution_count": null,
   "metadata": {
    "collapsed": false,
    "is_executing": true
   },
   "outputs": [],
   "source": [
    "from tfx.components import Pusher\n",
    "from tfx.proto import pusher_pb2\n",
    "\n",
    "pusher = Pusher(\n",
    "    model=trainer.outputs['model'],\n",
    "    model_blessing=evaluator.outputs['blessing'],\n",
    "    push_destination=pusher_pb2.PushDestination(\n",
    "        filesystem=pusher_pb2.PushDestination.Filesystem(\n",
    "            base_directory='serving_model_dir/real-or-fake-jobs-detection-model'))\n",
    "\n",
    ")\n",
    "\n",
    "interactive_context.run(pusher)"
   ]
  }
 ],
 "metadata": {
  "kernelspec": {
   "display_name": "Python 3 (ipykernel)",
   "language": "python",
   "name": "python3"
  },
  "language_info": {
   "codemirror_mode": {
    "name": "ipython",
    "version": 3
   },
   "file_extension": ".py",
   "mimetype": "text/x-python",
   "name": "python",
   "nbconvert_exporter": "python",
   "pygments_lexer": "ipython3",
   "version": "3.8.18"
  },
  "vscode": {
   "interpreter": {
    "hash": "614e1ab0f437a5a6ca9188a51b08d8b6cdc6656f6716327c66ae989e77e3b835"
   }
  }
 },
 "nbformat": 4,
 "nbformat_minor": 4
}
